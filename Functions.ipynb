{
  "cells": [
    {
      "cell_type": "markdown",
      "source": [
        "Q1- What is Python, and why is it popular?\n",
        "- Python is a high-level, interpreted, general-purpose programming language created by Guido van Rossum in 1991.\n",
        "It is easy to read and write because of its clean, English-like syntax.\n",
        "- Why is Python Popular :\n",
        "Simple & Readable Syntax\n",
        "Looks almost like plain English → easy for beginners.\n",
        "print(\"Hello, World!\")  # Very simple\n",
        "-Versatile\n",
        "Used in web development, data science, AI/ML, automation, game development, IoT, and more.\n",
        "-Large Standard Library & Frameworks\n",
        "Built-in modules + third-party libraries (NumPy, Pandas, TensorFlow, Django, Flask, etc.).\n",
        "-Cross-Platform\n",
        "Works on Windows, macOS, Linux, and more.\n",
        "-Strong Community Support\n",
        "Huge global community → easy to find tutorials, solutions, and help.\n",
        "-Integration\n",
        "Can easily integrate with other languages like C, C++, Java, etc.\n",
        "\n",
        "Q-2- What is an interpreter in Python?\n",
        "ans-In Python, an interpreter is the program that executes your Python code line by line.\n",
        "- What it does:\n",
        "- Reads your Python source code (.py file).\n",
        "\n",
        "-Translates it into an intermediate form called bytecode.\n",
        "\n",
        "-Executes that bytecode using the Python Virtual Machine (PVM).\n",
        "\n",
        "* The interpreter is what runs your Python code — it converts human-readable Python into machine-executable actions.\n",
        "\n",
        "Q-3- What are pre-defined keywords in Python?\n",
        "ans- In Python, pre-defined keywords are reserved words that have special meaning in the language.\n",
        "- They are part of the Python syntax and cannot be used as variable names, function names, or identifiers.\n",
        "\n",
        "-- Example keywords:\n",
        "Some common ones are:\n",
        "if, else, elif, while, for, break, continue, class, def, return, True, False, None, import, try, except, finally, with, yield, etc.\n",
        "\n",
        "Q-4- Can keywords be used as variable names?\n",
        "- No keywords cannot be used as variable names in programming languages like Python, Java, C, C++, etc.\n",
        "Keywords are reserved words that have a special meaning in the language (like if, while, class, return, etc.). They are part of the syntax and the compiler/interpreter uses them to understand your code. If you try to use them as variable names, it will cause a syntax error.\n",
        "Ex-\n",
        "if = 10     Error: \"invalid syntax\"\n",
        "\n",
        "Q5- What is mutability in Python/\n",
        "- In Python, mutability means whether an object’s value can be changed after it is created.\n",
        "- Mutable Objects\n",
        " Their content (value/state) can be changed without changing their identity.\n",
        "Ex:\n",
        "  list\n",
        "  dict (dictionary)\n",
        "  set\n",
        "  bytearray\n",
        "\n",
        "Q6- Why are lists mutable, but tuples are immutable?\n",
        "- lists are mutable because-\n",
        "- Lists are meant to be dynamic, flexible containers.\n",
        "- You often need to add, remove, or modify items in them.\n",
        "- Allowing mutability makes lists efficient for such operations.\n",
        "Ex:\n",
        " nums = [1, 2, 3]\n",
        " nums.append(4)   # modify in place\n",
        " print(nums)      # [1, 2, 3, 4]\n",
        "\n",
        " tuples are immutable-\n",
        "-Tuples are designed for fixed collections of items.\n",
        "-They are often used as keys in dictionaries or elements in sets, and for that, they must be hashable (unchanging).\n",
        "\n",
        "Q7 - What is the difference between “==” and “is” operators in Python?\n",
        "- == (Equality Operator)\n",
        "Checks if values are equal (contents).\n",
        "Doesn’t care about memory location.\n",
        "\n",
        "a = [1, 2, 3]\n",
        "b = [1, 2, 3]\n",
        "\n",
        "print(a == b)   # True → because values are the same\n",
        "\n",
        "- is (Identity Operator)\n",
        "\n",
        "Checks if two variables point to the same object in memory.\n",
        "\n",
        "Basically: do they have the same id()?\n",
        "a = [1, 2, 3]\n",
        "b = [1, 2, 3]\n",
        "print(a is b)   # False → different objects in memory\n",
        "print(id(a), id(b))  # different IDs\n",
        "\n",
        "Q-8- What are logical operators in Python?\n",
        "- In Python, logical operators are used to combine conditional statements and return a Boolean value (True or False).\n",
        "\n",
        "The three logical operators:\n",
        "-and\n",
        "Returns True if both conditions are true.\n",
        "x = 5\n",
        "print(x > 2 and x < 10)   # True (both are true)\n",
        "\n",
        "-or\n",
        "Returns True if at least one condition is true.\n",
        "x = 5\n",
        "print(x > 2 or x > 10)    # True (first condition is true)\n",
        "\n",
        "-not\n",
        "Reverses the result (negation).\n",
        "x = 5\n",
        "print(not(x > 2 and x < 10))   # False (because original was True)\n",
        "\n",
        "Q-9- What is type casting in Python?\n",
        "- In Python, type casting (also called type conversion) means changing the data type of a value from one type to another.\n",
        "\n",
        "Two types of type casting\n",
        "-Implicit Type Casting (Type Promotion)\n",
        "   Done automatically by Python.\n",
        "   Happens when combining different data types — Python converts the smaller type to a larger type to avoid data loss.\n",
        "   x = 5        # int\n",
        "   y = 2.5      # float\n",
        "  \n",
        "  result = x + y   # int + float → float\n",
        "  print(result)    # 7.5\n",
        "  print(type(result))  # <class 'float'>\n",
        "\n",
        "\n",
        " -Explicit Type Casting (Type Conversion)\n",
        "\n",
        " Done manually using functions.\n",
        " Common functions:\n",
        " int() → converts to integer\n",
        " float() → converts to float\n",
        " str() → converts to string\n",
        " list(), tuple(), set() → convert between collections\n",
        "  \n",
        "  a = \"100\"\n",
        "  b = int(a)     # string → int\n",
        "   print(b + 50)  # 150\n",
        "\n",
        "  c = 10\n",
        "  d = float(c)   # int → float\n",
        "   print(d)       # 10\n",
        "   \n",
        "Q-10-  What is the difference between implicit and explicit type casting?\n",
        "- Implicit Type Casting (Type Promotion)\n",
        "\n",
        "Done automatically by Python.\n",
        "\n",
        "Python converts one data type into another without user intervention, usually to prevent data loss.\n",
        "\n",
        "Safe conversions only (e.g., int → float).\n",
        "\n",
        "Ex:\n",
        "x = 5      # int\n",
        "y = 2.5    # float\n",
        "\n",
        "result = x + y   # int + float → float\n",
        "print(result)        # 7.5\n",
        "print(type(result))  # <class 'float'>\n",
        "\n",
        "- Explicit Type Casting (Type Conversion)\n",
        "\n",
        "Done manually by the programmer using built-in functions like int(), float(), str(), list(), etc.\n",
        "\n",
        "Lets you force a conversion, even if data may be lost or an error may occur.\n",
        "\n",
        "Ex:\n",
        "a = \"100\"\n",
        "b = int(a)   # str → int\n",
        "print(b + 50)  # 150\n",
        "\n",
        "c = 10.8\n",
        "d = int(c)   # float → int (decimal part lost)\n",
        "print(d)     # 10\n",
        "\n",
        "Q-11- What is the purpose of conditional statements in Python?\n",
        "- The purpose of conditional statements in Python is to let your program make decisions and execute different code blocks based on conditions.\n",
        "-- Why they’re used:\n",
        "\n",
        "To control the flow of a program.\n",
        "\n",
        "To check if a condition is True or False and act accordingly.\n",
        "\n",
        "To make programs dynamic and logical instead of running everything sequentially.\n",
        " -Types of conditional statements in Python:\n",
        "   if → Runs a block if condition is true.\n",
        "   if…else → Runs one block if true, another if false.\n",
        "   if…elif…else → Checks multiple conditions in order.\n",
        "   Nested if → One if inside another.\n",
        "\n",
        "Q-12-  How does the elif statement work?\n",
        "- The elif statement in Python is short for “else if”.\n",
        "It lets you check multiple conditions one after another in an if block.\n",
        "- How it works:\n",
        "Python evaluates the first if condition.\n",
        "\n",
        "If True, its block runs, and the rest (elif / else) are skipped.\n",
        "\n",
        "If the first if is False, Python checks the next elif condition.\n",
        "\n",
        "If True, that block runs, and the rest are skipped.\n",
        "\n",
        "You can use multiple elif statements.\n",
        "\n",
        "Optionally, you can end with an else block, which runs if none of the conditions are true.\n",
        "\n",
        "- Example:\n",
        "marks = 75\n",
        "if marks >= 90:\n",
        "    print(\"Grade A\")\n",
        "elif marks >= 75:\n",
        "    print(\"Grade B\")\n",
        "elif marks >= 50:\n",
        "    print(\"Grade C\")\n",
        "else:\n",
        "    print(\"Fail\")\n",
        "\n",
        "Output:\n",
        "Grade B\n",
        "\n",
        "Q-13- What is the difference between for and while loops ?\n",
        " - for loop:\n",
        " Used when you know how many times you want to repeat.\n",
        " Iterates over a sequence (like list, tuple, string, range, etc.).\n",
        "\n",
        "-Example:\n",
        "\n",
        "for i in range(5):   # repeats 5 times\n",
        "    print(i)\n",
        "\n",
        "Output:\n",
        "0\n",
        "1\n",
        "2\n",
        "3\n",
        "4\n",
        "\n",
        "- while loop:\n",
        "\n",
        "-Used when you don’t know beforehand how many times to repeat.\n",
        "-Keeps running as long as a condition is True.\n",
        "\n",
        "-Example:\n",
        "\n",
        "count = 0\n",
        "while count < 5:   # repeats until condition becomes False\n",
        "    print(count)\n",
        "    count += 1\n",
        "\n",
        "Output:\n",
        "0\n",
        "1\n",
        "2\n",
        "3\n",
        "4\n",
        "\n",
        "Q-14- Describe a scenario where a while loop is more suitable than a for loop?\n",
        "- Scenario: User Login System\n",
        "\n",
        " suppose you are building a program that keeps asking the user to enter the correct password until they get it right.\n",
        "\n",
        "Here, you don’t know how many attempts the user will need.\n",
        "\n",
        "A while loop is perfect because it keeps running as long as the condition is not met.\n",
        "\n",
        "- Example:\n",
        "\n",
        "password = \"python123\"\n",
        "user_input = \"\"\n",
        "\n",
        "while user_input != password:\n",
        "    user_input = input(\"Enter password: \")\n",
        "\n",
        "print(\"Access Granted \")\n",
        "\n",
        "- This loop will keep running indefinitely until the user types \"python123\".\n",
        "A for loop wouldn’t fit well here because we don’t know the number of attempts in advance.\n",
        "\n",
        "\n",
        "\n"
      ],
      "metadata": {
        "id": "CLmsh_mvfeU8"
      }
    },
    {
      "cell_type": "markdown",
      "source": [
        "Practical questions\n"
      ],
      "metadata": {
        "id": "KPIHnm8ABqk0"
      }
    },
    {
      "cell_type": "code",
      "source": [
        "#Write a Python program to print \"Hello, World\"\n",
        "print(\"Hello, World\")"
      ],
      "metadata": {
        "colab": {
          "base_uri": "https://localhost:8080/"
        },
        "id": "KNjlEe7jBdi8",
        "outputId": "47113ecc-1638-422d-8029-c1b67c056ae2"
      },
      "execution_count": 1,
      "outputs": [
        {
          "output_type": "stream",
          "name": "stdout",
          "text": [
            "Hello, World\n"
          ]
        }
      ]
    },
    {
      "cell_type": "code",
      "source": [
        "# Write a Python program that displays your name and age\n",
        "\n",
        "name = \"Ashish Verma\"   # you can replace this with your own name\n",
        "age = 25               # replace with your age\n",
        "\n",
        "print(\"My name is\", name)\n",
        "print(\"I am\", age, \"years old\")"
      ],
      "metadata": {
        "colab": {
          "base_uri": "https://localhost:8080/"
        },
        "id": "CmiNYWVXwIam",
        "outputId": "81087d90-ae37-419a-bfc6-2edf95b85106"
      },
      "execution_count": null,
      "outputs": [
        {
          "output_type": "stream",
          "name": "stdout",
          "text": [
            "My name is Ashish Verma\n",
            "I am 25 years old\n"
          ]
        }
      ]
    },
    {
      "cell_type": "code",
      "source": [
        "#Write code to print all the pre-defined keywords in Python using the keyword library.\n",
        "\n",
        "import keyword\n",
        "\n",
        "print(\"Python keywords are:\\n\")\n",
        "print(keyword.kwlist)       # prints the list of keywords\n",
        "print(\"\\nTotal number of keywords:\", len(keyword.kwlist))"
      ],
      "metadata": {
        "colab": {
          "base_uri": "https://localhost:8080/"
        },
        "id": "z5w9vTFVwgqv",
        "outputId": "b5c6b6b5-466d-4b88-d0f1-64ea5fe05192"
      },
      "execution_count": null,
      "outputs": [
        {
          "output_type": "stream",
          "name": "stdout",
          "text": [
            "Python keywords are:\n",
            "\n",
            "['False', 'None', 'True', 'and', 'as', 'assert', 'async', 'await', 'break', 'class', 'continue', 'def', 'del', 'elif', 'else', 'except', 'finally', 'for', 'from', 'global', 'if', 'import', 'in', 'is', 'lambda', 'nonlocal', 'not', 'or', 'pass', 'raise', 'return', 'try', 'while', 'with', 'yield']\n",
            "\n",
            "Total number of keywords: 35\n"
          ]
        }
      ]
    },
    {
      "cell_type": "code",
      "source": [
        "# Program to check if a word is a Python keyword\n",
        "\n",
        "import keyword\n",
        "\n",
        "word = input(\"Enter a word: \")\n",
        "\n",
        "if keyword.iskeyword(word):\n",
        "    print(f\"'{word}' is a Python keyword ✅\")\n",
        "else:\n",
        "    print(f\"'{word}' is NOT a Python keyword ❌\")"
      ],
      "metadata": {
        "colab": {
          "base_uri": "https://localhost:8080/"
        },
        "id": "Ug9P7-8dxF0h",
        "outputId": "d25da82c-f27f-4089-bb6e-2ce8056d9f20"
      },
      "execution_count": null,
      "outputs": [
        {
          "output_type": "stream",
          "name": "stdout",
          "text": [
            "Enter a word: else\n",
            "'else' is a Python keyword ✅\n"
          ]
        }
      ]
    },
    {
      "cell_type": "code",
      "source": [
        "# Creating a list and a tuple\n",
        "my_list = [1, 2, 3, 4]\n",
        "my_tuple = (1, 2, 3, 4)\n",
        "\n",
        "# Display original objects\n",
        "print(\"Original list:\", my_list)\n",
        "print(\"Original tuple:\", my_tuple)\n",
        "\n",
        "# Attempt to modify the first element\n",
        "my_list[0] = 100\n",
        "print(\"\\nAfter changing list[0]:\", my_list)\n",
        "\n",
        "try:\n",
        "    my_tuple[0] = 100   # This will raise an error\n",
        "except TypeError as e:\n",
        "    print(\"Error while changing tuple[0]:\", e)"
      ],
      "metadata": {
        "colab": {
          "base_uri": "https://localhost:8080/"
        },
        "id": "0j1sSlHXxGvG",
        "outputId": "bdbd21b1-47ab-4af5-bee6-1c10d423d977"
      },
      "execution_count": null,
      "outputs": [
        {
          "output_type": "stream",
          "name": "stdout",
          "text": [
            "Original list: [1, 2, 3, 4]\n",
            "Original tuple: (1, 2, 3, 4)\n",
            "\n",
            "After changing list[0]: [100, 2, 3, 4]\n",
            "Error while changing tuple[0]: 'tuple' object does not support item assignment\n"
          ]
        }
      ]
    },
    {
      "cell_type": "code",
      "source": [
        "#Write a function to demonstrate the behavior of mutable and immutable arguments\n",
        "import keyword\n",
        "\n",
        "word = input(\"Enter a word: \")\n",
        "\n",
        "if keyword.iskeyword(word):\n",
        "    print(f\"'{word}' is a Python keyword ✅\")\n",
        "else:\n",
        "    print(f\"'{word}' is NOT a Python keyword ❌\")"
      ],
      "metadata": {
        "colab": {
          "base_uri": "https://localhost:8080/"
        },
        "id": "_NQnAIXexHc6",
        "outputId": "aa486913-658a-4bdb-b893-ec0663e560ef"
      },
      "execution_count": null,
      "outputs": [
        {
          "output_type": "stream",
          "name": "stdout",
          "text": [
            "Enter a word: hj\n",
            "'hj' is NOT a Python keyword ❌\n"
          ]
        }
      ]
    },
    {
      "cell_type": "code",
      "source": [
        "# Create a list and tuple in Python, and demonstrate how attempting to change an element works differently for each\n",
        "my_list = [1, 2, 3, 4]\n",
        "my_tuple = (1, 2, 3, 4)\n",
        "\n",
        "# Display original objects\n",
        "print(\"Original list:\", my_list)\n",
        "print(\"Original tuple:\", my_tuple)\n",
        "\n",
        "# Attempt to modify the first element\n",
        "my_list[0] = 100\n",
        "print(\"\\nAfter changing list[0]:\", my_list)\n",
        "\n",
        "try:\n",
        "    my_tuple[0] = 100   # This will raise an error\n",
        "except TypeError as e:\n",
        "    print(\"Error while changing tuple[0]:\", e)"
      ],
      "metadata": {
        "colab": {
          "base_uri": "https://localhost:8080/"
        },
        "id": "gbvpWXwqxIFS",
        "outputId": "d7fc36be-a1fb-43a6-b63c-000af14620a1"
      },
      "execution_count": null,
      "outputs": [
        {
          "output_type": "stream",
          "name": "stdout",
          "text": [
            "Original list: [1, 2, 3, 4]\n",
            "Original tuple: (1, 2, 3, 4)\n",
            "\n",
            "After changing list[0]: [100, 2, 3, 4]\n",
            "Error while changing tuple[0]: 'tuple' object does not support item assignment\n"
          ]
        }
      ]
    },
    {
      "cell_type": "code",
      "source": [
        "# Function to modify mutable and immutable arguments\n",
        "def modify_args(immutable_arg, mutable_arg):\n",
        "    print(\"\\nInside function before modification:\")\n",
        "    print(\"Immutable:\", immutable_arg)\n",
        "    print(\"Mutable:\", mutable_arg)\n",
        "\n",
        "    # Attempt to modify both\n",
        "    immutable_arg += 10         # creates a new object\n",
        "    mutable_arg.append(100)     # modifies in place\n",
        "\n",
        "    print(\"\\nInside function after modification:\")\n",
        "    print(\"Immutable:\", immutable_arg)\n",
        "    print(\"Mutable:\", mutable_arg)\n",
        "\n",
        "# Immutable argument (int)\n",
        "num = 50\n",
        "\n",
        "# Mutable argument (list)\n",
        "my_list = [1, 2, 3]\n",
        "\n",
        "print(\"Before function call:\")\n",
        "print(\"num =\", num)\n",
        "print(\"my_list =\", my_list)\n",
        "\n",
        "# Call the function\n",
        "modify_args(num, my_list)\n",
        "\n",
        "print(\"\\nAfter function call:\")\n",
        "print(\"num =\", num)        # unchanged\n",
        "print(\"my_list =\", my_list)  # changed"
      ],
      "metadata": {
        "colab": {
          "base_uri": "https://localhost:8080/"
        },
        "id": "cA8cAIYmzcVP",
        "outputId": "9140bb84-168e-4e7a-d131-f00ba7308047"
      },
      "execution_count": null,
      "outputs": [
        {
          "output_type": "stream",
          "name": "stdout",
          "text": [
            "Before function call:\n",
            "num = 50\n",
            "my_list = [1, 2, 3]\n",
            "\n",
            "Inside function before modification:\n",
            "Immutable: 50\n",
            "Mutable: [1, 2, 3]\n",
            "\n",
            "Inside function after modification:\n",
            "Immutable: 60\n",
            "Mutable: [1, 2, 3, 100]\n",
            "\n",
            "After function call:\n",
            "num = 50\n",
            "my_list = [1, 2, 3, 100]\n"
          ]
        }
      ]
    },
    {
      "cell_type": "code",
      "source": [
        "# Program to perform basic arithmetic operations\n",
        "\n",
        "# Take input from the user\n",
        "num1 = float(input(\"Enter the first number: \"))\n",
        "num2 = float(input(\"Enter the second number: \"))\n",
        "\n",
        "# Perform operations\n",
        "addition = num1 + num2\n",
        "subtraction = num1 - num2\n",
        "multiplication = num1 * num2\n",
        "\n",
        "# Handle division carefully\n",
        "if num2 != 0:\n",
        "    division = num1 / num2\n",
        "else:\n",
        "    division = \"Undefined (cannot divide by zero)\"\n",
        "\n",
        "# Display results\n",
        "print(\"\\nResults:\")\n",
        "print(f\"{num1} + {num2} = {addition}\")\n",
        "print(f\"{num1} - {num2} = {subtraction}\")\n",
        "print(f\"{num1} * {num2} = {multiplication}\")\n",
        "print(f\"{num1} / {num2} = {division}\")"
      ],
      "metadata": {
        "colab": {
          "base_uri": "https://localhost:8080/"
        },
        "id": "vcJXUDLMxIxB",
        "outputId": "970ef95c-3f16-488f-ee8b-3f27d965b016"
      },
      "execution_count": null,
      "outputs": [
        {
          "output_type": "stream",
          "name": "stdout",
          "text": [
            "Enter the first number: 23\n",
            "Enter the second number: 56\n",
            "\n",
            "Results:\n",
            "23.0 + 56.0 = 79.0\n",
            "23.0 - 56.0 = -33.0\n",
            "23.0 * 56.0 = 1288.0\n",
            "23.0 / 56.0 = 0.4107142857142857\n"
          ]
        }
      ]
    },
    {
      "cell_type": "code",
      "source": [
        "# Program to demonstrate logical operators\n",
        "\n",
        "# Take input from the user\n",
        "age = int(input(\"Enter your age: \"))\n",
        "has_id = input(\"Do you have an ID? (yes/no): \").lower() == \"yes\"\n",
        "\n",
        "# Using 'and' operator\n",
        "if age >= 18 and has_id:\n",
        "    print(\"You are allowed to enter the club (both conditions met).\")\n",
        "else:\n",
        "    print(\"You are NOT allowed to enter the club (one or both conditions not met).\")\n",
        "\n",
        "# Using 'or' operator\n",
        "if age >= 18 or has_id:\n",
        "    print(\"You may be allowed under special circumstances (at least one condition met).\")\n",
        "else:\n",
        "    print(\"You are definitely NOT allowed (neither condition met).\")\n",
        "\n",
        "# Using 'not' operator\n",
        "if not has_id:\n",
        "    print(\"You must carry an ID to enter!\")"
      ],
      "metadata": {
        "colab": {
          "base_uri": "https://localhost:8080/"
        },
        "id": "vE70lHkfxJFF",
        "outputId": "0042a848-6ed1-4e70-8f4e-6982863214e5"
      },
      "execution_count": null,
      "outputs": [
        {
          "output_type": "stream",
          "name": "stdout",
          "text": [
            "Enter your age: 56\n",
            "Do you have an ID? (yes/no): yes\n",
            "You are allowed to enter the club (both conditions met).\n",
            "You may be allowed under special circumstances (at least one condition met).\n"
          ]
        }
      ]
    },
    {
      "cell_type": "code",
      "source": [
        "# Program to convert user input to different types\n",
        "\n",
        "# Take input from the user\n",
        "user_input = input(\"Enter something: \")\n",
        "\n",
        "# Convert to integer\n",
        "try:\n",
        "    int_value = int(user_input)\n",
        "except ValueError:\n",
        "    int_value = \"Cannot convert to integer\"\n",
        "\n",
        "# Convert to float\n",
        "try:\n",
        "    float_value = float(user_input)\n",
        "except ValueError:\n",
        "    float_value = \"Cannot convert to float\"\n",
        "\n",
        "# Convert to boolean\n",
        "# In Python, empty string '' → False, anything else → True\n",
        "bool_value = bool(user_input)\n",
        "\n",
        "# Display results\n",
        "print(\"\\nConversions:\")\n",
        "print(f\"Original input (string): {user_input}\")\n",
        "print(f\"As integer: {int_value}\")\n",
        "print(f\"As float: {float_value}\")\n",
        "print(f\"As boolean: {bool_value}\")"
      ],
      "metadata": {
        "colab": {
          "base_uri": "https://localhost:8080/"
        },
        "id": "MnmtjgkexJWA",
        "outputId": "8cc52a7f-2454-40fa-eb1c-5eef1fd36c35"
      },
      "execution_count": null,
      "outputs": [
        {
          "output_type": "stream",
          "name": "stdout",
          "text": [
            "Enter something: ydut\n",
            "\n",
            "Conversions:\n",
            "Original input (string): ydut\n",
            "As integer: Cannot convert to integer\n",
            "As float: Cannot convert to float\n",
            "As boolean: True\n"
          ]
        }
      ]
    },
    {
      "cell_type": "code",
      "source": [
        "# Original list with string numbers\n",
        "str_list = [\"10\", \"20\", \"30\", \"40\"]\n",
        "\n",
        "print(\"Original list (strings):\", str_list)\n",
        "print(\"Types:\", [type(x) for x in str_list])\n",
        "\n",
        "# Convert all elements to integers\n",
        "int_list = [int(x) for x in str_list]\n",
        "print(\"\\nAfter converting to integers:\", int_list)\n",
        "print(\"Types:\", [type(x) for x in int_list])\n",
        "\n",
        "# Convert all elements to floats\n",
        "float_list = [float(x) for x in str_list]\n",
        "print(\"\\nAfter converting to floats:\", float_list)\n",
        "print(\"Types:\", [type(x) for x in float_list])\n",
        "\n",
        "# Convert all elements to strings again (just for demonstration)\n",
        "str_again_list = [str(x) for x in int_list]\n",
        "print(\"\\nAfter converting back to strings:\", str_again_list)\n",
        "print(\"Types:\", [type(x) for x in str_again_list])\n"
      ],
      "metadata": {
        "colab": {
          "base_uri": "https://localhost:8080/"
        },
        "id": "sSkrQsavxJyQ",
        "outputId": "76aae00d-cb1e-4ef4-eedd-864b07e10d55"
      },
      "execution_count": null,
      "outputs": [
        {
          "output_type": "stream",
          "name": "stdout",
          "text": [
            "Original list (strings): ['10', '20', '30', '40']\n",
            "Types: [<class 'str'>, <class 'str'>, <class 'str'>, <class 'str'>]\n",
            "\n",
            "After converting to integers: [10, 20, 30, 40]\n",
            "Types: [<class 'int'>, <class 'int'>, <class 'int'>, <class 'int'>]\n",
            "\n",
            "After converting to floats: [10.0, 20.0, 30.0, 40.0]\n",
            "Types: [<class 'float'>, <class 'float'>, <class 'float'>, <class 'float'>]\n",
            "\n",
            "After converting back to strings: ['10', '20', '30', '40']\n",
            "Types: [<class 'str'>, <class 'str'>, <class 'str'>, <class 'str'>]\n"
          ]
        }
      ]
    },
    {
      "cell_type": "code",
      "source": [
        "# Program to check if a number is positive, negative, or zero\n",
        "\n",
        "# Take input from the user\n",
        "num = float(input(\"Enter a number: \"))\n",
        "\n",
        "# Check the number\n",
        "if num > 0:\n",
        "    print(\"The number is positive ✅\")\n",
        "elif num < 0:\n",
        "    print(\"The number is negative ❌\")\n",
        "else:\n",
        "    print(\"The number is zero ⚪\")\n"
      ],
      "metadata": {
        "colab": {
          "base_uri": "https://localhost:8080/"
        },
        "id": "_2UgOkNlxJ37",
        "outputId": "541e81ba-5d58-4f9d-802f-7cfb8ca2491c"
      },
      "execution_count": null,
      "outputs": [
        {
          "output_type": "stream",
          "name": "stdout",
          "text": [
            "Enter a number: 56\n",
            "The number is positive ✅\n"
          ]
        }
      ]
    },
    {
      "cell_type": "code",
      "source": [
        "# Using a for loop to print numbers from 1 to 10\n",
        "\n",
        "for i in range(1, 11):  # range(start, end) -> end is exclusive\n",
        "    print(i)"
      ],
      "metadata": {
        "colab": {
          "base_uri": "https://localhost:8080/"
        },
        "id": "m5XNr1KrxJ9D",
        "outputId": "8f0b2c21-7903-42f8-fa4b-72d67981d075"
      },
      "execution_count": null,
      "outputs": [
        {
          "output_type": "stream",
          "name": "stdout",
          "text": [
            "1\n",
            "2\n",
            "3\n",
            "4\n",
            "5\n",
            "6\n",
            "7\n",
            "8\n",
            "9\n",
            "10\n"
          ]
        }
      ]
    },
    {
      "cell_type": "code",
      "source": [
        "# Program to find the sum of even numbers from 1 to 50\n",
        "\n",
        "sum_even = 0\n",
        "\n",
        "for i in range(2, 51, 2):  # start at 2, step by 2\n",
        "    sum_even += i\n",
        "\n",
        "print(\"Sum of even numbers from 1 to 50:\", sum_even)"
      ],
      "metadata": {
        "colab": {
          "base_uri": "https://localhost:8080/"
        },
        "id": "_v8v7EI0xKCT",
        "outputId": "eb7aa4a7-b4cd-4362-ba64-52d12f3fabef"
      },
      "execution_count": null,
      "outputs": [
        {
          "output_type": "stream",
          "name": "stdout",
          "text": [
            "Sum of even numbers from 1 to 50: 650\n"
          ]
        }
      ]
    },
    {
      "cell_type": "code",
      "source": [
        "# Program to reverse a string using while loop\n",
        "\n",
        "string = input(\"Enter a string: \")\n",
        "reversed_string = \"\"\n",
        "index = len(string) - 1\n",
        "\n",
        "while index >= 0:\n",
        "    reversed_string += string[index]\n",
        "    index -= 1\n",
        "\n",
        "print(\"Reversed string:\", reversed_string)"
      ],
      "metadata": {
        "colab": {
          "base_uri": "https://localhost:8080/"
        },
        "id": "GAlWS-Qr17b8",
        "outputId": "b304cca1-645a-439b-fba4-36e9178fa6ee"
      },
      "execution_count": null,
      "outputs": [
        {
          "output_type": "stream",
          "name": "stdout",
          "text": [
            "Enter a string: asd\n",
            "Reversed string: dsa\n"
          ]
        }
      ]
    },
    {
      "cell_type": "code",
      "source": [
        "# Program to calculate factorial using while loop\n",
        "\n",
        "num = int(input(\"Enter a number: \"))\n",
        "\n",
        "factorial = 1\n",
        "i = 1\n",
        "\n",
        "while i <= num:\n",
        "    factorial *= i\n",
        "    i += 1\n",
        "\n",
        "print(f\"Factorial of {num} is:\", factorial)"
      ],
      "metadata": {
        "colab": {
          "base_uri": "https://localhost:8080/"
        },
        "id": "MGyp2z_s163e",
        "outputId": "f3160db1-f72c-4ec8-8615-f4aec5974059"
      },
      "execution_count": null,
      "outputs": [
        {
          "output_type": "stream",
          "name": "stdout",
          "text": [
            "Enter a number: 78\n",
            "Factorial of 78 is: 11324281178206297831457521158732046228731749579488251990048962825668835325234200766245086213177344000000000000000000\n"
          ]
        }
      ]
    }
  ],
  "metadata": {
    "colab": {
      "provenance": []
    },
    "kernelspec": {
      "display_name": "Python 3",
      "name": "python3"
    }
  },
  "nbformat": 4,
  "nbformat_minor": 0
}